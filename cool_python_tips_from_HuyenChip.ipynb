{
  "nbformat": 4,
  "nbformat_minor": 0,
  "metadata": {
    "colab": {
      "name": "cool-python-tips from HuyenChip.ipynb",
      "provenance": [],
      "include_colab_link": true
    },
    "kernelspec": {
      "name": "python3",
      "display_name": "Python 3"
    }
  },
  "cells": [
    {
      "cell_type": "markdown",
      "metadata": {
        "id": "view-in-github",
        "colab_type": "text"
      },
      "source": [
        "<a href=\"https://colab.research.google.com/github/youngvn/python-tricks/blob/master/cool_python_tips_from_HuyenChip.ipynb\" target=\"_parent\"><img src=\"https://colab.research.google.com/assets/colab-badge.svg\" alt=\"Open In Colab\"/></a>"
      ]
    },
    {
      "cell_type": "markdown",
      "metadata": {
        "id": "N9_9DxNhjQWm",
        "colab_type": "text"
      },
      "source": [
        ""
      ]
    },
    {
      "cell_type": "markdown",
      "metadata": {
        "id": "A2Y293fujS5o",
        "colab_type": "text"
      },
      "source": [
        "# 1. Lambda, map, filter, reduce"
      ]
    },
    {
      "cell_type": "code",
      "metadata": {
        "id": "7lQHLTPvjP4o",
        "colab_type": "code",
        "colab": {}
      },
      "source": [
        "def square_fn(x):\n",
        "    return x * x\n",
        "\n",
        "square_ld = lambda x: x * x\n",
        "\n",
        "assert square_fn(5) == square_ld(5)"
      ],
      "execution_count": 0,
      "outputs": []
    },
    {
      "cell_type": "markdown",
      "metadata": {
        "id": "5Hksslv4xq04",
        "colab_type": "text"
      },
      "source": [
        "## map vs for"
      ]
    },
    {
      "cell_type": "code",
      "metadata": {
        "id": "C1tr4_wMlC1c",
        "colab_type": "code",
        "colab": {
          "base_uri": "https://localhost:8080/",
          "height": 34
        },
        "outputId": "7c24715f-1908-4c53-cf8d-2e061f12ee96"
      },
      "source": [
        "nums = [1/3, 333/7, 2323/2230, 40/34, 2/3]\n",
        "nums_squared = [num * num for num in nums]\n",
        "print(nums_squared)"
      ],
      "execution_count": 3,
      "outputs": [
        {
          "output_type": "stream",
          "text": [
            "[0.1111111111111111, 2263.0408163265306, 1.0851472983570953, 1.384083044982699, 0.4444444444444444]\n"
          ],
          "name": "stdout"
        }
      ]
    },
    {
      "cell_type": "code",
      "metadata": {
        "id": "NFeG32FvuJt0",
        "colab_type": "code",
        "colab": {}
      },
      "source": [
        "nums_squared_1 = map(square_ld, nums)"
      ],
      "execution_count": 0,
      "outputs": []
    },
    {
      "cell_type": "code",
      "metadata": {
        "id": "tTWFteMGuew6",
        "colab_type": "code",
        "colab": {}
      },
      "source": [
        "assert nums_squared == list(nums_squared_1)"
      ],
      "execution_count": 0,
      "outputs": []
    },
    {
      "cell_type": "markdown",
      "metadata": {
        "id": "hqTzc6FFvnPb",
        "colab_type": "text"
      },
      "source": [
        "## filter vs map"
      ]
    },
    {
      "cell_type": "code",
      "metadata": {
        "id": "Tl_hylIOuiWo",
        "colab_type": "code",
        "colab": {
          "base_uri": "https://localhost:8080/",
          "height": 34
        },
        "outputId": "41efe915-60ff-4061-b1a4-ae81dec40d44"
      },
      "source": [
        "out_of_scope = filter(lambda x: x > 1.0, nums_squared)\n",
        "print(list(out_of_scope))"
      ],
      "execution_count": 11,
      "outputs": [
        {
          "output_type": "stream",
          "text": [
            "[2263.0408163265306, 1.0851472983570953, 1.384083044982699]\n"
          ],
          "name": "stdout"
        }
      ]
    },
    {
      "cell_type": "code",
      "metadata": {
        "id": "caVAQdMOyeBt",
        "colab_type": "code",
        "colab": {
          "base_uri": "https://localhost:8080/",
          "height": 34
        },
        "outputId": "5a65f781-18f8-4319-e72a-e62c6ceda78e"
      },
      "source": [
        "out_of_scope2 = map(lambda x: x > 1.0, nums_squared)\n",
        "print(list(out_of_scope2))"
      ],
      "execution_count": 12,
      "outputs": [
        {
          "output_type": "stream",
          "text": [
            "[False, True, True, True, False]\n"
          ],
          "name": "stdout"
        }
      ]
    },
    {
      "cell_type": "markdown",
      "metadata": {
        "id": "-GXu84fcyove",
        "colab_type": "text"
      },
      "source": [
        "## reduce vs for"
      ]
    },
    {
      "cell_type": "code",
      "metadata": {
        "id": "9itlF7ZuzXIz",
        "colab_type": "code",
        "colab": {
          "base_uri": "https://localhost:8080/",
          "height": 34
        },
        "outputId": "42e6121d-e055-45b9-f4bf-31b588c9760b"
      },
      "source": [
        "product = 1\n",
        "for num in nums_squared:\n",
        "    product *= num\n",
        "print(product)"
      ],
      "execution_count": 13,
      "outputs": [
        {
          "output_type": "stream",
          "text": [
            "167.84878485427453\n"
          ],
          "name": "stdout"
        }
      ]
    },
    {
      "cell_type": "code",
      "metadata": {
        "id": "rVsr7l2Yzcl9",
        "colab_type": "code",
        "colab": {}
      },
      "source": [
        "from functools import reduce\n",
        "product2 = reduce(lambda x, y: x * y, nums_squared)\n",
        "assert product == product2"
      ],
      "execution_count": 0,
      "outputs": []
    },
    {
      "cell_type": "markdown",
      "metadata": {
        "id": "SjIrjz5PzmXB",
        "colab_type": "text"
      },
      "source": [
        "##(*)lambda is slower than function call"
      ]
    },
    {
      "cell_type": "markdown",
      "metadata": {
        "id": "uUlFi33fzx0c",
        "colab_type": "text"
      },
      "source": [
        "# 2. List manipulation\n",
        "## 2.1 Unpacking"
      ]
    },
    {
      "cell_type": "code",
      "metadata": {
        "id": "Sl_-4zh11hMc",
        "colab_type": "code",
        "colab": {
          "base_uri": "https://localhost:8080/",
          "height": 34
        },
        "outputId": "5e8855ec-5517-44e4-cbfe-c91fc8ce56ee"
      },
      "source": [
        "elems = [1, 2, 3, 4]\n",
        "a, b, c, d = elems\n",
        "print(a, b, c, d)"
      ],
      "execution_count": 18,
      "outputs": [
        {
          "output_type": "stream",
          "text": [
            "1 2 3 4\n"
          ],
          "name": "stdout"
        }
      ]
    },
    {
      "cell_type": "code",
      "metadata": {
        "id": "kWAFp-Ij1kWJ",
        "colab_type": "code",
        "colab": {
          "base_uri": "https://localhost:8080/",
          "height": 68
        },
        "outputId": "1c774fa2-7195-4ba8-fd43-d9f8779d33e0"
      },
      "source": [
        "a, *new_elems, d = elems\n",
        "print(a)\n",
        "print(new_elems)\n",
        "print(d)"
      ],
      "execution_count": 19,
      "outputs": [
        {
          "output_type": "stream",
          "text": [
            "1\n",
            "[2, 3]\n",
            "4\n"
          ],
          "name": "stdout"
        }
      ]
    },
    {
      "cell_type": "markdown",
      "metadata": {
        "id": "9LzG1IbB1m4h",
        "colab_type": "text"
      },
      "source": [
        "## 2.2 Slicing"
      ]
    },
    {
      "cell_type": "code",
      "metadata": {
        "id": "Nzm3vYLt16XO",
        "colab_type": "code",
        "colab": {
          "base_uri": "https://localhost:8080/",
          "height": 51
        },
        "outputId": "38bed498-625d-469b-c33f-7e01d4ce0568"
      },
      "source": [
        "elems = list(range(11))\n",
        "print(elems)\n",
        "print(elems[::-1])"
      ],
      "execution_count": 55,
      "outputs": [
        {
          "output_type": "stream",
          "text": [
            "[0, 1, 2, 3, 4, 5, 6, 7, 8, 9, 10]\n",
            "[10, 9, 8, 7, 6, 5, 4, 3, 2, 1, 0]\n"
          ],
          "name": "stdout"
        }
      ]
    },
    {
      "cell_type": "code",
      "metadata": {
        "id": "IcI6y7oQ2EV7",
        "colab_type": "code",
        "colab": {
          "base_uri": "https://localhost:8080/",
          "height": 51
        },
        "outputId": "73461b8c-1239-40ec-8ce3-fbc2581c4116"
      },
      "source": [
        "evens = elems[::2]\n",
        "print(evens)\n",
        "\n",
        "reversed_evens = elems[-1::-2]\n",
        "print(reversed_evens)"
      ],
      "execution_count": 60,
      "outputs": [
        {
          "output_type": "stream",
          "text": [
            "[0, 2, 4, 6, 8, 10]\n",
            "[10, 8, 6, 4, 2, 0]\n"
          ],
          "name": "stdout"
        }
      ]
    },
    {
      "cell_type": "code",
      "metadata": {
        "id": "jUTDTZvD2NCW",
        "colab_type": "code",
        "colab": {
          "base_uri": "https://localhost:8080/",
          "height": 34
        },
        "outputId": "06195b48-aafa-4368-9a82-79527a372994"
      },
      "source": [
        "del elems[1::2]\n",
        "print(elems)"
      ],
      "execution_count": 61,
      "outputs": [
        {
          "output_type": "stream",
          "text": [
            "[0, 2, 4, 6, 8, 10]\n"
          ],
          "name": "stdout"
        }
      ]
    },
    {
      "cell_type": "markdown",
      "metadata": {
        "id": "T9vZT4EWAerZ",
        "colab_type": "text"
      },
      "source": [
        "## 2.3 Insertion"
      ]
    },
    {
      "cell_type": "code",
      "metadata": {
        "id": "FsSCfk4NCMxz",
        "colab_type": "code",
        "colab": {
          "base_uri": "https://localhost:8080/",
          "height": 34
        },
        "outputId": "b0433d9a-e432-4a21-f89c-c26ceeae3c0d"
      },
      "source": [
        "elems = list(range(10))\n",
        "elems[1] = 10\n",
        "print(elems)"
      ],
      "execution_count": 62,
      "outputs": [
        {
          "output_type": "stream",
          "text": [
            "[0, 10, 2, 3, 4, 5, 6, 7, 8, 9]\n"
          ],
          "name": "stdout"
        }
      ]
    },
    {
      "cell_type": "code",
      "metadata": {
        "id": "VNtYQVgLCQ2P",
        "colab_type": "code",
        "colab": {
          "base_uri": "https://localhost:8080/",
          "height": 34
        },
        "outputId": "0e1050b6-259e-4369-f59c-3ef70dfb7566"
      },
      "source": [
        "elems = list(range(10))\n",
        "elems[1:2] = [20, 30, 40]\n",
        "print(elems)"
      ],
      "execution_count": 63,
      "outputs": [
        {
          "output_type": "stream",
          "text": [
            "[0, 20, 30, 40, 2, 3, 4, 5, 6, 7, 8, 9]\n"
          ],
          "name": "stdout"
        }
      ]
    },
    {
      "cell_type": "markdown",
      "metadata": {
        "id": "68PeRO5FCTeS",
        "colab_type": "text"
      },
      "source": [
        "## 2.4 Flattening"
      ]
    },
    {
      "cell_type": "code",
      "metadata": {
        "id": "FiLR6AigCamR",
        "colab_type": "code",
        "colab": {
          "base_uri": "https://localhost:8080/",
          "height": 34
        },
        "outputId": "6a868c95-f846-40cd-89a3-c15de4a177a8"
      },
      "source": [
        "list_of_lists = [[1], [2, 3], [4, 5, 6]]\n",
        "sum(list_of_lists, [])"
      ],
      "execution_count": 64,
      "outputs": [
        {
          "output_type": "execute_result",
          "data": {
            "text/plain": [
              "[1, 2, 3, 4, 5, 6]"
            ]
          },
          "metadata": {
            "tags": []
          },
          "execution_count": 64
        }
      ]
    },
    {
      "cell_type": "markdown",
      "metadata": {
        "id": "IJIBvvWMCdeG",
        "colab_type": "text"
      },
      "source": [
        "## 2.5 List vs generator"
      ]
    },
    {
      "cell_type": "code",
      "metadata": {
        "id": "iXcWTspZER6u",
        "colab_type": "code",
        "colab": {
          "base_uri": "https://localhost:8080/",
          "height": 102
        },
        "outputId": "eb94f7e2-66cb-47f1-da4d-c0b786413eda"
      },
      "source": [
        "tokens = ['i', 'want', 'to', 'go', 'to', 'school']\n",
        "\n",
        "def ngrams(tokens, n):\n",
        "    length = len(tokens)\n",
        "    grams = []\n",
        "    for i in range(length - n + 1):\n",
        "        grams.append(tokens[i:i+n])\n",
        "    return grams\n",
        "\n",
        "ngrams_generator = ngrams(tokens, 3)\n",
        "print(ngrams_generator)\n",
        "for ngram in ngrams_generator:\n",
        "    print(ngram)"
      ],
      "execution_count": 66,
      "outputs": [
        {
          "output_type": "stream",
          "text": [
            "[['i', 'want', 'to'], ['want', 'to', 'go'], ['to', 'go', 'to'], ['go', 'to', 'school']]\n",
            "['i', 'want', 'to']\n",
            "['want', 'to', 'go']\n",
            "['to', 'go', 'to']\n",
            "['go', 'to', 'school']\n"
          ],
          "name": "stdout"
        }
      ]
    },
    {
      "cell_type": "code",
      "metadata": {
        "id": "bTj4XfCGHixl",
        "colab_type": "code",
        "colab": {
          "base_uri": "https://localhost:8080/",
          "height": 102
        },
        "outputId": "dc21793b-f8c3-40fb-bcc4-fe68112d066a"
      },
      "source": [
        "def ngrams(tokens, n):\n",
        "    length = len(tokens)\n",
        "    for i in range(length - n + 1):\n",
        "        yield tokens[i:i+n]\n",
        "\n",
        "ngrams_generator = ngrams(tokens, 3)\n",
        "print(ngrams_generator)\n",
        "for ngram in ngrams_generator:\n",
        "    print(ngram)"
      ],
      "execution_count": 67,
      "outputs": [
        {
          "output_type": "stream",
          "text": [
            "<generator object ngrams at 0x7f0495b473b8>\n",
            "['i', 'want', 'to']\n",
            "['want', 'to', 'go']\n",
            "['to', 'go', 'to']\n",
            "['go', 'to', 'school']\n"
          ],
          "name": "stdout"
        }
      ]
    },
    {
      "cell_type": "markdown",
      "metadata": {
        "id": "U5yHU4p7H4vC",
        "colab_type": "text"
      },
      "source": [
        "# 4. local namespace, object's attributes"
      ]
    },
    {
      "cell_type": "code",
      "metadata": {
        "id": "-WeI6T4mIdB4",
        "colab_type": "code",
        "colab": {
          "base_uri": "https://localhost:8080/",
          "height": 34
        },
        "outputId": "4bbf8efc-70d3-4b5a-d5c7-d19aadeabe76"
      },
      "source": [
        "class Model3:\n",
        "    def __init__(self, **kwargs):\n",
        "        self.__dict__ = kwargs\n",
        "\n",
        "model3 = Model3(hidden_size=100, num_layers=3, learning_rate=3e-4)\n",
        "model3.__dict__"
      ],
      "execution_count": 69,
      "outputs": [
        {
          "output_type": "execute_result",
          "data": {
            "text/plain": [
              "{'hidden_size': 100, 'learning_rate': 0.0003, 'num_layers': 3}"
            ]
          },
          "metadata": {
            "tags": []
          },
          "execution_count": 69
        }
      ]
    },
    {
      "cell_type": "markdown",
      "metadata": {
        "id": "u6s-YjRCJFrA",
        "colab_type": "text"
      },
      "source": [
        "# 5. Wildcard import\n",
        "`parts.py`\n",
        "    \n",
        "    __all__ = ['Encoder', 'Decoder', 'Loss']\n",
        "    import numpy\n",
        "    import tensorflow\n",
        "    \n",
        "    class Encoder:\n",
        "        ...\n",
        "Now, if some user irresponsibly does a wildcard import with parts, they can only import Encoder, Decoder, Loss. "
      ]
    },
    {
      "cell_type": "code",
      "metadata": {
        "id": "4Holo5jCJ_2g",
        "colab_type": "code",
        "colab": {}
      },
      "source": [
        ""
      ],
      "execution_count": 0,
      "outputs": []
    }
  ]
}