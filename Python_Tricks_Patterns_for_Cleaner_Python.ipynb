{
  "nbformat": 4,
  "nbformat_minor": 0,
  "metadata": {
    "colab": {
      "name": "Python Tricks_Patterns for Cleaner Python.ipynb",
      "provenance": [],
      "collapsed_sections": [],
      "include_colab_link": true
    },
    "kernelspec": {
      "name": "python3",
      "display_name": "Python 3"
    }
  },
  "cells": [
    {
      "cell_type": "markdown",
      "metadata": {
        "id": "view-in-github",
        "colab_type": "text"
      },
      "source": [
        "<a href=\"https://colab.research.google.com/github/youngvn/python-tricks/blob/master/Python_Tricks_Patterns_for_Cleaner_Python.ipynb\" target=\"_parent\"><img src=\"https://colab.research.google.com/assets/colab-badge.svg\" alt=\"Open In Colab\"/></a>"
      ]
    },
    {
      "cell_type": "markdown",
      "metadata": {
        "id": "ZuMmvVTrnXdN",
        "colab_type": "text"
      },
      "source": [
        "##2.1 Covering your A** with Assertions"
      ]
    },
    {
      "cell_type": "code",
      "metadata": {
        "id": "_WM5mT84m2h8",
        "colab_type": "code",
        "colab": {}
      },
      "source": [
        "def apply_discount(product, discount):\n",
        "  price = int(product['price'] * (1.0 - discount))\n",
        "  assert 0 <= price <= product['price']\n",
        "  return price"
      ],
      "execution_count": 0,
      "outputs": []
    },
    {
      "cell_type": "code",
      "metadata": {
        "id": "UfZYMMUXq5B5",
        "colab_type": "code",
        "colab": {
          "base_uri": "https://localhost:8080/",
          "height": 34
        },
        "outputId": "0bb121c5-62d1-494e-f03b-58f1fb242ef4"
      },
      "source": [
        "shoes = {'name': 'Fancy Shoes', 'price': 14900}\n",
        "apply_discount(shoes, 0.25)"
      ],
      "execution_count": 2,
      "outputs": [
        {
          "output_type": "execute_result",
          "data": {
            "text/plain": [
              "11175"
            ]
          },
          "metadata": {
            "tags": []
          },
          "execution_count": 2
        }
      ]
    },
    {
      "cell_type": "code",
      "metadata": {
        "id": "wX1vAoX_rTHa",
        "colab_type": "code",
        "colab": {
          "base_uri": "https://localhost:8080/",
          "height": 266
        },
        "outputId": "7fd8251d-3a87-4438-98a4-fbf7b32c22a3"
      },
      "source": [
        "apply_discount(shoes, 2.0)"
      ],
      "execution_count": 3,
      "outputs": [
        {
          "output_type": "error",
          "ename": "AssertionError",
          "evalue": "ignored",
          "traceback": [
            "\u001b[0;31m---------------------------------------------------------------------------\u001b[0m",
            "\u001b[0;31mAssertionError\u001b[0m                            Traceback (most recent call last)",
            "\u001b[0;32m<ipython-input-3-e53e95c2a957>\u001b[0m in \u001b[0;36m<module>\u001b[0;34m()\u001b[0m\n\u001b[0;32m----> 1\u001b[0;31m \u001b[0mapply_discount\u001b[0m\u001b[0;34m(\u001b[0m\u001b[0mshoes\u001b[0m\u001b[0;34m,\u001b[0m \u001b[0;36m2.0\u001b[0m\u001b[0;34m)\u001b[0m\u001b[0;34m\u001b[0m\u001b[0;34m\u001b[0m\u001b[0m\n\u001b[0m",
            "\u001b[0;32m<ipython-input-1-df91185d6cc4>\u001b[0m in \u001b[0;36mapply_discount\u001b[0;34m(product, discount)\u001b[0m\n\u001b[1;32m      1\u001b[0m \u001b[0;32mdef\u001b[0m \u001b[0mapply_discount\u001b[0m\u001b[0;34m(\u001b[0m\u001b[0mproduct\u001b[0m\u001b[0;34m,\u001b[0m \u001b[0mdiscount\u001b[0m\u001b[0;34m)\u001b[0m\u001b[0;34m:\u001b[0m\u001b[0;34m\u001b[0m\u001b[0;34m\u001b[0m\u001b[0m\n\u001b[1;32m      2\u001b[0m   \u001b[0mprice\u001b[0m \u001b[0;34m=\u001b[0m \u001b[0mint\u001b[0m\u001b[0;34m(\u001b[0m\u001b[0mproduct\u001b[0m\u001b[0;34m[\u001b[0m\u001b[0;34m'price'\u001b[0m\u001b[0;34m]\u001b[0m \u001b[0;34m*\u001b[0m \u001b[0;34m(\u001b[0m\u001b[0;36m1.0\u001b[0m \u001b[0;34m-\u001b[0m \u001b[0mdiscount\u001b[0m\u001b[0;34m)\u001b[0m\u001b[0;34m)\u001b[0m\u001b[0;34m\u001b[0m\u001b[0;34m\u001b[0m\u001b[0m\n\u001b[0;32m----> 3\u001b[0;31m   \u001b[0;32massert\u001b[0m \u001b[0;36m0\u001b[0m \u001b[0;34m<=\u001b[0m \u001b[0mprice\u001b[0m \u001b[0;34m<=\u001b[0m \u001b[0mproduct\u001b[0m\u001b[0;34m[\u001b[0m\u001b[0;34m'price'\u001b[0m\u001b[0;34m]\u001b[0m\u001b[0;34m\u001b[0m\u001b[0;34m\u001b[0m\u001b[0m\n\u001b[0m\u001b[1;32m      4\u001b[0m   \u001b[0;32mreturn\u001b[0m \u001b[0mprice\u001b[0m\u001b[0;34m\u001b[0m\u001b[0;34m\u001b[0m\u001b[0m\n",
            "\u001b[0;31mAssertionError\u001b[0m: "
          ]
        }
      ]
    },
    {
      "cell_type": "markdown",
      "metadata": {
        "id": "YqhZe5JUZ6Fz",
        "colab_type": "text"
      },
      "source": [
        "###Why not just use a regular exception? (cleaner)\n",
        "Assertions are meant to be internal self-checks for your program. The goal of using assertions is to let developers find the likely root cause of a bug more quickly. (inform developers about **unrecoverable** errors in a program)\n"
      ]
    },
    {
      "cell_type": "markdown",
      "metadata": {
        "id": "PwLEKuGcc0tK",
        "colab_type": "text"
      },
      "source": [
        "Assertions can be globally disabled with the -0 and -00 command line. => Don't use asserts for data validation.\n",
        "\n",
        "We could do our validation with regular if-statements and raise alidation exceptions if necessary."
      ]
    },
    {
      "cell_type": "code",
      "metadata": {
        "id": "JuXimwIkdQEP",
        "colab_type": "code",
        "colab": {}
      },
      "source": [
        "def delete_product(product_id, user):\n",
        "  if not user.is_admin():\n",
        "    raise AuthError('Must be admin to delete')\n",
        "  if not store.has_product(product_id):\n",
        "    raise ValueError('Unknown product id')\n",
        "  store.get_product(product_id).delete()"
      ],
      "execution_count": 0,
      "outputs": []
    },
    {
      "cell_type": "code",
      "metadata": {
        "id": "B9ViXwnbZWjV",
        "colab_type": "code",
        "colab": {
          "base_uri": "https://localhost:8080/",
          "height": 51
        },
        "outputId": "dd0dbb10-839b-449c-9905-a9a89eb767b9"
      },
      "source": [
        "#For example, this assertion will nerver fail:\n",
        "assert(1==2, 'This should fail')"
      ],
      "execution_count": 5,
      "outputs": [
        {
          "output_type": "stream",
          "text": [
            "<ipython-input-5-dc6898dc1447>:1: SyntaxWarning: assertion is always true, perhaps remove parentheses?\n",
            "  assert(1==2, 'This should fail')\n"
          ],
          "name": "stderr"
        }
      ]
    },
    {
      "cell_type": "markdown",
      "metadata": {
        "id": "kdp33_ZKoTpN",
        "colab_type": "text"
      },
      "source": [
        "###Key Takeawas:\n",
        "\n",
        "\n",
        "*   Python's asset statement is a debugging aid that test a condition as an internal self-check in your programe.\n",
        "*   Asserts should only be used to help developers indentify bugs. They're not a mechanism for handling run-time errors.\n",
        "*   Asserts can be globally disabled with an interpreter setting.\n"
      ]
    },
    {
      "cell_type": "code",
      "metadata": {
        "id": "W3MdfgvXuX9n",
        "colab_type": "code",
        "colab": {}
      },
      "source": [
        ""
      ],
      "execution_count": 0,
      "outputs": []
    }
  ]
}